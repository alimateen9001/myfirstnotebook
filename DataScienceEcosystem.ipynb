{
 "cells": [
  {
   "cell_type": "markdown",
   "id": "a98dbb7e",
   "metadata": {},
   "source": [
    "# Data Science Tools and Ecosystem"
   ]
  },
  {
   "cell_type": "markdown",
   "id": "473e383d",
   "metadata": {},
   "source": [
    "In this notebook, Data Science Tools and Ecosystem are summarized."
   ]
  },
  {
   "cell_type": "markdown",
   "id": "f3a8df4f",
   "metadata": {},
   "source": [
    "**Some of the popular languages that Data Scientists use are:**\n",
    "1. Python\n",
    "2. R\n",
    "3. SQL"
   ]
  },
  {
   "cell_type": "markdown",
   "id": "7cdaa3d1",
   "metadata": {},
   "source": [
    "**Some of the commonly used libraries used by Data Scientists include:**\n",
    "\n",
    "R Libraries\n",
    "1. ggplot2\n",
    "2. dplyr\n",
    "3. caret\n",
    "\n",
    "Python Libraries\n",
    "1. pandas\n",
    "2. numpy\n",
    "3. tensorflow"
   ]
  },
  {
   "cell_type": "markdown",
   "id": "1c7f3ca3",
   "metadata": {},
   "source": [
    "**Tools for data science**\n",
    "1. pandas (python - For data manipulation and analysis)\n",
    "2. dplyr (R - For data manipulation and analysis)\n",
    "3. plotly (python/R - For data visualization)\n",
    "4. Tableau (For business intelligence and data visualization)"
   ]
  },
  {
   "cell_type": "markdown",
   "id": "85a27f09",
   "metadata": {},
   "source": [
    "### Below are a few examples of evaluating arithmetic expressions in Python "
   ]
  },
  {
   "cell_type": "code",
   "execution_count": 9,
   "id": "cae064fa",
   "metadata": {},
   "outputs": [
    {
     "data": {
      "text/plain": [
       "17"
      ]
     },
     "execution_count": 9,
     "metadata": {},
     "output_type": "execute_result"
    }
   ],
   "source": [
    "# This is a simple arithmetic expression to mutiply then add integers\n",
    "(3*4)+5"
   ]
  },
  {
   "cell_type": "code",
   "execution_count": 10,
   "id": "bf5bf435",
   "metadata": {},
   "outputs": [
    {
     "name": "stdout",
     "output_type": "stream",
     "text": [
      "3.3333333333333335\n"
     ]
    }
   ],
   "source": [
    "# This will convert 200 minutes to hours by diving by 60\n",
    "mins=200\n",
    "hours=mins/60\n",
    "print(hours)"
   ]
  },
  {
   "cell_type": "markdown",
   "id": "9f7681c1",
   "metadata": {},
   "source": [
    "**Objectives:**\n",
    "\n",
    "In this lab we have covered following topics:\n",
    "* Popular languages that Data Scientists use\n",
    "* Commonly used libraries used by Data Scientists\n",
    "* Tools for data science\n",
    "* Arithmetic Operations"
   ]
  },
  {
   "cell_type": "markdown",
   "id": "d2bb87fd",
   "metadata": {},
   "source": [
    "## Author ##\n",
    "Mateen Ali"
   ]
  }
 ],
 "metadata": {
  "kernelspec": {
   "display_name": "Python 3",
   "language": "python",
   "name": "python3"
  },
  "language_info": {
   "codemirror_mode": {
    "name": "ipython",
    "version": 3
   },
   "file_extension": ".py",
   "mimetype": "text/x-python",
   "name": "python",
   "nbconvert_exporter": "python",
   "pygments_lexer": "ipython3",
   "version": "3.8.8"
  }
 },
 "nbformat": 4,
 "nbformat_minor": 5
}
